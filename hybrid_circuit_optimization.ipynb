{
 "cells": [
  {
   "cell_type": "markdown",
   "metadata": {},
   "source": [
    "# Using Qubits and Qumodes (Gaussian and non-Gaussian circuits)\n",
    "**By:** Arjun Bhamra\n",
    "\n",
    "We will be following [this](https://pennylane.ai/qml/demos/tutorial_plugins_hybrid.html) tutorial from the PennyLane website."
   ]
  },
  {
   "cell_type": "markdown",
   "metadata": {},
   "source": [
    "### A non-Gaussian Circuit\n",
    "We start with the **photonic** circuit:\n",
    "$$    |1\\rangle - [BS_{top}]$$\n",
    "$$|0\\rangle - [BS_{bot}] - \\langle\\hat{n}\\rangle$$\n",
    "Here, $BS_{top}$ and $BS_{bot}$ are two halves of a two-qubit gate.\n",
    "\n",
    "### Breakdown of Circuit\n",
    "1. We start the circuit with a two *qumode* (not qubit) subsystem. We refer to these with the keyword `wires`\n",
    "2. "
   ]
  },
  {
   "cell_type": "code",
   "execution_count": null,
   "metadata": {},
   "outputs": [],
   "source": []
  }
 ],
 "metadata": {
  "kernelspec": {
   "display_name": "Python 3",
   "language": "python",
   "name": "python3"
  },
  "language_info": {
   "codemirror_mode": {
    "name": "ipython",
    "version": 3
   },
   "file_extension": ".py",
   "mimetype": "text/x-python",
   "name": "python",
   "nbconvert_exporter": "python",
   "pygments_lexer": "ipython3",
   "version": "3.8.5"
  }
 },
 "nbformat": 4,
 "nbformat_minor": 4
}
