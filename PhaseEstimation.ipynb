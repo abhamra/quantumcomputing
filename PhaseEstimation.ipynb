{
 "cells": [
  {
   "cell_type": "markdown",
   "metadata": {},
   "source": [
    "# Quantum Phase Estimation Algorithm\n",
    "\n",
    "**By:** Arjun Bhamra"
   ]
  },
  {
   "cell_type": "markdown",
   "metadata": {},
   "source": [
    "### Introducing the Quantum Phase Estimation Algorithm/Problem Statement"
   ]
  },
  {
   "cell_type": "markdown",
   "metadata": {},
   "source": [
    "Quantum phase estimation is one of the most important subroutines in quantum computation. It serves as a central building block for many quantum algorithms. The objective of the algorithm is the following:\n",
    "\n",
    "Given a unitary operator $U$, the algorithm estimates $\\theta$ in $U|\\psi\\rangle=e^{2\\pi i\\theta}|\\psi\\rangle$. Here $|\\psi\\rangle$ is an eigenvector and $e^{2\\pi i\\theta}$ is the corresponding eigenvalue. Since $U$ is unitary, all of its eigenvalues have a norm of $1$."
   ]
  },
  {
   "cell_type": "markdown",
   "metadata": {},
   "source": [
    "### Imports"
   ]
  },
  {
   "cell_type": "code",
   "execution_count": 1,
   "metadata": {},
   "outputs": [],
   "source": [
    "import qiskit as q\n",
    "from qiskit import *\n",
    "import numpy as np\n",
    "from qiskit.visualization import plot_histogram\n",
    "from qiskit.extensions import UnitaryGate\n",
    "from qiskit.extensions import Snapshot"
   ]
  },
  {
   "cell_type": "code",
   "execution_count": 2,
   "metadata": {},
   "outputs": [
    {
     "name": "stderr",
     "output_type": "stream",
     "text": [
      "/opt/anaconda3/lib/python3.8/site-packages/qiskit/providers/ibmq/ibmqfactory.py:192: UserWarning: Timestamps in IBMQ backend properties, jobs, and job results are all now in local time instead of UTC.\n",
      "  warnings.warn('Timestamps in IBMQ backend properties, jobs, and job results '\n"
     ]
    }
   ],
   "source": [
    "IBMQ.load_account()\n",
    "from qiskit.providers.ibmq import least_busy"
   ]
  },
  {
   "cell_type": "markdown",
   "metadata": {},
   "source": [
    "### Creating the Algorithm"
   ]
  },
  {
   "cell_type": "code",
   "execution_count": 27,
   "metadata": {},
   "outputs": [
    {
     "name": "stdout",
     "output_type": "stream",
     "text": [
      "[[0 0 1 0]\n",
      " [0 0 0 1]\n",
      " [1 0 0 0]\n",
      " [0 1 0 0]]\n"
     ]
    },
    {
     "data": {
      "image/png": "[encoded data removed]",
      "text/plain": [
       "<Figure size 146.652x204.68 with 1 Axes>"
      ]
     },
     "execution_count": 27,
     "metadata": {},
     "output_type": "execute_result"
    }
   ],
   "source": [
    "n = 1 #number of control qubits qubits\n",
    "\n",
    "#creating the circuit\n",
    "qr = q.QuantumRegister(n+1, 'q')\n",
    "cr = q.ClassicalRegister(n, 'c')\n",
    "qc = q.QuantumCircuit(qr, cr)\n",
    "\n",
    "#preparing the hadamard transform\n",
    "qc.h(qr[:n])\n",
    "\n",
    "#preparing the eigenstate for X gate on last qubit on last qubit\n",
    "qc.h(n)\n",
    "\n",
    "#creating the controlled U gates for a given unitary matrix U\n",
    "#here, we will be using the X gate (as mentioned above), which has eigenstates |+> and |->\n",
    "\n",
    "X = np.array([[0, 1], [1, 0]])\n",
    "I = np.array(([1, 0], [0, 1]))\n",
    "\n",
    "CU = np.kron(X, I)\n",
    "print(CU)\n",
    "\n",
    "qc.draw('mpl')"
   ]
  },
  {
   "cell_type": "code",
   "execution_count": null,
   "metadata": {},
   "outputs": [],
   "source": []
  }
 ],
 "metadata": {
  "kernelspec": {
   "display_name": "Python 3",
   "language": "python",
   "name": "python3"
  },
  "language_info": {
   "codemirror_mode": {
    "name": "ipython",
    "version": 3
   },
   "file_extension": ".py",
   "mimetype": "text/x-python",
   "name": "python",
   "nbconvert_exporter": "python",
   "pygments_lexer": "ipython3",
   "version": "3.8.5"
  }
 },
 "nbformat": 4,
 "nbformat_minor": 4
}
