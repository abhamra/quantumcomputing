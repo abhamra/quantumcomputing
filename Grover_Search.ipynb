{
 "cells": [
  {
   "cell_type": "markdown",
   "metadata": {},
   "source": [
    "# Grover's Search Algorithm generalized for $n$ Qubits\n",
    "**By:** Arjun Bhamra"
   ]
  },
  {
   "cell_type": "markdown",
   "metadata": {},
   "source": [
    "### Problem Statement\n",
    "\n",
    "We are given an unsorted list of length $n$, and we know what our target is. Our goal is to find our target with a quantum algorithm, specifically one that results in a *quadratic speedup*. In this case, **Grover's Search Algorithm**'s Big O is $O(\\sqrt{n})$, as opposed to a classical algorithm of $O(n)$.\n",
    "\n",
    "The oracle essentially *amplifies* the correct answer/target and \"dims\" the incorrect answer/everything that isn't the target."
   ]
  },
  {
   "cell_type": "markdown",
   "metadata": {},
   "source": [
    "### Imports"
   ]
  },
  {
   "cell_type": "code",
   "execution_count": 441,
   "metadata": {},
   "outputs": [],
   "source": [
    "import qiskit\n",
    "from qiskit import *\n",
    "import numpy as np\n",
    "from qiskit.visualization import plot_histogram\n",
    "from qiskit.extensions import UnitaryGate\n",
    "from qiskit.extensions import Snapshot\n",
    "import seaborn as sns\n",
    "from seaborn import *\n",
    "sns.set_theme(style=\"whitegrid\")"
   ]
  },
  {
   "cell_type": "code",
   "execution_count": 442,
   "metadata": {},
   "outputs": [
    {
     "name": "stderr",
     "output_type": "stream",
     "text": [
      "/opt/anaconda3/lib/python3.8/site-packages/qiskit/providers/ibmq/ibmqfactory.py:192: UserWarning: Timestamps in IBMQ backend properties, jobs, and job results are all now in local time instead of UTC.\n",
      "  warnings.warn('Timestamps in IBMQ backend properties, jobs, and job results '\n",
      "ibmqfactory.load_account:WARNING:2021-03-31 22:57:43,218: Credentials are already in use. The existing account in the session will be replaced.\n"
     ]
    }
   ],
   "source": [
    "IBMQ.load_account()\n",
    "from qiskit.providers.ibmq import least_busy"
   ]
  },
  {
   "cell_type": "markdown",
   "metadata": {},
   "source": [
    "### Making the Class"
   ]
  },
  {
   "cell_type": "code",
   "execution_count": 450,
   "metadata": {},
   "outputs": [],
   "source": [
    "class GroverSearch():\n",
    "    def __init__(self, target_state):\n",
    "        self.n = len(target_state)\n",
    "        self.target = target_state\n",
    "        self.answer = \"N/A\"\n",
    "        \n",
    "    #generates a hadamard transformed state\n",
    "    def h_transform(self, target):\n",
    "        num_qubits = len(target)\n",
    "        #1/np.sqrt(2**num_qubits) (scale factor for hadamard transform)\n",
    "        h_state = 1/np.sqrt(2**num_qubits)*np.ones((2**num_qubits, 1))\n",
    "        return h_state\n",
    "\n",
    "    #Creates a statevector\n",
    "    def create_sv(self, target):\n",
    "        num_qubits = len(target)\n",
    "        q0 = np.array([[1.], [0.]])\n",
    "        q1 = np.array([[0.], [1.]])\n",
    "        elements=q0 #by default\n",
    "        iterate = q0 #by default\n",
    "\n",
    "        #giving elements an initial value\n",
    "        if(target[0]==\"0\"):\n",
    "            elements=q0\n",
    "        elif(target[0]==\"1\"):\n",
    "            elements=q1\n",
    "\n",
    "        for i in range(1, num_qubits):\n",
    "            if(target[i]==\"0\"):\n",
    "                iterate=q0\n",
    "            elif(target[i]==\"1\"):\n",
    "                iterate=q1\n",
    "\n",
    "            elements = np.kron(elements, iterate)\n",
    "        return elements\n",
    "    \n",
    "    def gsa(self):\n",
    "        #setting up the circuit vars\n",
    "        qr = qiskit.QuantumRegister(self.n, 'q')\n",
    "        cr = qiskit.ClassicalRegister(self.n, 'c')\n",
    "        qc = qiskit.QuantumCircuit(qr, cr)\n",
    "        self.circuit=qc\n",
    "\n",
    "        #creating the circuit\n",
    "        #adding hadamards\n",
    "        for q in qr:\n",
    "            qc.h(q)\n",
    "        qc.barrier()    \n",
    "\n",
    "        #create Uw Oracle/Gate\n",
    "\n",
    "        #Recall that Uw = I-2|w><w|\n",
    "\n",
    "        uw_gate = np.identity(2**self.n)-2*np.kron(self.create_sv(self.target).T, self.create_sv(self.target))\n",
    "\n",
    "        Uw_Gate = UnitaryGate(uw_gate, label=\"Uw-Oracle\")\n",
    "\n",
    "        # Create Us Diffuser Operator\n",
    "\n",
    "        #Recall that Us = 2|s><s|-I\n",
    "        s = self.h_transform(self.target)#snapshot of after the hadamard transform!\n",
    "        us_gate = 2*np.kron(s.T, s)-np.identity(2**self.n)\n",
    "        Us_Gate = UnitaryGate(us_gate, label=\"Us-Diffuser\")\n",
    "\n",
    "        #ADDING THE GROVER OPERATOR √N TIMES\n",
    "\n",
    "        for i in range(0, int(np.sqrt(self.n))):\n",
    "            qc.append(Uw_Gate, qr[:self.n])\n",
    "            qc.append(Us_Gate, qr[:self.n])\n",
    "            qc.barrier()\n",
    "    \n",
    "        #measurements\n",
    "        qc.measure(qr[:self.n], cr[:self.n])\n",
    "        \n",
    "    def plot_counts_sim(self):\n",
    "        # use local simulator\n",
    "        qasm_sim = Aer.get_backend('qasm_simulator')\n",
    "        shots = 1024\n",
    "        qobj = assemble(self.circuit)\n",
    "        results = qasm_sim.run(qobj).result()\n",
    "        answer = results.get_counts()\n",
    "        counts = answer\n",
    "        x_list = list(counts.keys())\n",
    "        #print(x_list)\n",
    "        height_list = list(counts.values())\n",
    "        #print(height_list)\n",
    "\n",
    "        sns.barplot(x=x_list, y=height_list)\n",
    "     \n",
    "    def plot_counts_real(self):\n",
    "        provider = IBMQ.get_provider(hub='ibm-q')\n",
    "        backend = least_busy(provider.backends(filters=lambda x: x.configuration().n_qubits >= len(self.target)+1\n",
    "                                    and not x.configuration().simulator\n",
    "                                    and x.status().operational==True))\n",
    "        print(backend)\n",
    "        shots=1024\n",
    "        transpiled = transpile(self.circuit, backend)\n",
    "        qobj = assemble(transpiled)\n",
    "        results = backend.run(qobj).result()\n",
    "        answer = results.get_counts()\n",
    "        counts = answer\n",
    "        x_list = list(counts.keys())\n",
    "        #print(x_list)\n",
    "        height_list = list(counts.values())\n",
    "        #print(height_list)\n",
    "\n",
    "        sns.barplot(x=x_list, y=height_list)\n",
    "        \n",
    "\n",
    "#qc.draw('mpl')"
   ]
  },
  {
   "cell_type": "code",
   "execution_count": 452,
   "metadata": {},
   "outputs": [
    {
     "data": {
      "image/png": "[encoded data removed]",
      "text/plain": [
       "<Figure size 432x288 with 1 Axes>"
      ]
     },
     "metadata": {},
     "output_type": "display_data"
    }
   ],
   "source": [
    "target_state = \"101\" #as an input in the class\n",
    "gs = GroverSearch(target_state)\n",
    "gs.gsa()\n",
    "gs.plot_counts_sim()\n",
    "#gs.plot_counts_real()"
   ]
  },
  {
   "cell_type": "markdown",
   "metadata": {},
   "source": [
    "### Visualizations (Mostly for the circuit)"
   ]
  },
  {
   "cell_type": "code",
   "execution_count": 414,
   "metadata": {},
   "outputs": [
    {
     "data": {
      "image/png": "[encoded data removed]",
      "text/plain": [
       "<Figure size 1049.8x325.08 with 1 Axes>"
      ]
     },
     "execution_count": 414,
     "metadata": {},
     "output_type": "execute_result"
    }
   ],
   "source": [
    "target = \"1001\"\n",
    "n = len(target)\n",
    "#generates a hadamard transformed state\n",
    "def h_transform(target):\n",
    "    num_qubits = len(target)\n",
    "    #1/np.sqrt(2**num_qubits) (scale factor for hadamard transform)\n",
    "    h_state = 1/np.sqrt(2**num_qubits)*np.ones((2**num_qubits, 1))\n",
    "    return h_state\n",
    "\n",
    "#Creates a statevector\n",
    "def create_sv(target):\n",
    "    num_qubits = len(target)\n",
    "    q0 = np.array([[1.], [0.]])\n",
    "    q1 = np.array([[0.], [1.]])\n",
    "    elements=q0 #by default\n",
    "    iterate = q0 #by default\n",
    "\n",
    "    #giving elements an initial value\n",
    "    if(target[0]==\"0\"):\n",
    "        elements=q0\n",
    "    elif(target[0]==\"1\"):\n",
    "        elements=q1\n",
    "\n",
    "    for i in range(1, num_qubits):\n",
    "        if(target[i]==\"0\"):\n",
    "            iterate=q0\n",
    "        elif(target[i]==\"1\"):\n",
    "            iterate=q1\n",
    "\n",
    "        elements = np.kron(elements, iterate)\n",
    "    return elements\n",
    "\n",
    "\n",
    "#setting up the circuit vars\n",
    "qr = qiskit.QuantumRegister(n, 'q')\n",
    "cr = qiskit.ClassicalRegister(n, 'c')\n",
    "qc = qiskit.QuantumCircuit(qr, cr)\n",
    "\n",
    "#creating the circuit\n",
    "#adding hadamards\n",
    "for q in qr:\n",
    "    qc.h(q)\n",
    "qc.barrier()    \n",
    "\n",
    "#create Uw Oracle/Gate\n",
    "\n",
    "#Recall that Uw = I-2|w><w|\n",
    "\n",
    "uw_gate = np.identity(2**n)-2*np.kron(create_sv(target).T, create_sv(target))\n",
    "\n",
    "Uw_Gate = UnitaryGate(uw_gate, label=\"Uw-Oracle\")\n",
    "\n",
    "# Create Us Diffuser Operator\n",
    "\n",
    "#Recall that Us = 2|s><s|-I\n",
    "s = h_transform(target)#snapshot of after the hadamard transform!\n",
    "us_gate = 2*np.kron(s.T, s)-np.identity(2**n)\n",
    "Us_Gate = UnitaryGate(us_gate, label=\"Us-Diffuser\")\n",
    "\n",
    "#ADDING THE GROVER OPERATOR √N TIMES\n",
    "\n",
    "for i in range(0, int(np.sqrt(n))):\n",
    "    qc.append(Uw_Gate, qr[:n])\n",
    "    qc.append(Us_Gate, qr[:n])\n",
    "    qc.barrier()\n",
    "\n",
    "#measurements\n",
    "qc.measure(qr[:n], cr[:n])\n",
    "\n",
    "qc.draw('mpl')"
   ]
  }
 ],
 "metadata": {
  "kernelspec": {
   "display_name": "Python 3",
   "language": "python",
   "name": "python3"
  },
  "language_info": {
   "codemirror_mode": {
    "name": "ipython",
    "version": 3
   },
   "file_extension": ".py",
   "mimetype": "text/x-python",
   "name": "python",
   "nbconvert_exporter": "python",
   "pygments_lexer": "ipython3",
   "version": "3.8.5"
  }
 },
 "nbformat": 4,
 "nbformat_minor": 4
}
