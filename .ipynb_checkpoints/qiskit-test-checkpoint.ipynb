{
 "cells": [
  {
   "cell_type": "markdown",
   "metadata": {},
   "source": [
    "# Combined Test File for all Quantum Algorithms\n",
    "**By**: Arjun Bhamra"
   ]
  },
  {
   "cell_type": "markdown",
   "metadata": {},
   "source": [
    "## Imports"
   ]
  },
  {
   "cell_type": "code",
   "execution_count": 14,
   "metadata": {},
   "outputs": [],
   "source": [
    "import qiskit as q\n",
    "from qiskit import *\n",
    "import numpy as np\n",
    "from qiskit.visualization import plot_histogram"
   ]
  },
  {
   "cell_type": "markdown",
   "metadata": {},
   "source": [
    "## Quantum Teleporter for $n$ qubits\n",
    "\n",
    "This code works by taking a list of $n$ unique qubit states that someone wants to be teleported, and sending them from Alice to Bob."
   ]
  },
  {
   "cell_type": "code",
   "execution_count": 13,
   "metadata": {},
   "outputs": [
    {
     "name": "stdout",
     "output_type": "stream",
     "text": [
      "2 state Quantum Teleporter Created\n",
      "Psi state:  (0.5533920757991503+0.3043529040180291j) (0.6147796854942953+0.4724113234904887j)\n",
      "Alice's state:  (0.5533920757991503+0.3043529040180291j) (0.6147796854942953+0.4724113234904887j)\n",
      "Bob's state:  (0.5533920757991504+0.30435290401802917j) (0.6147796854942953+0.47241132349048853j)\n",
      "State Successfully Teleported!\n",
      "Psi state:  (0.7071067811865475+0j) (0.7071067811865475+0j)\n",
      "Alice's state:  (0.7071067811865475+0j) (0.7071067811865475+0j)\n",
      "Bob's state:  (0.7071067811865474+0j) (0.7071067811865476-8.659560562354934e-17j)\n",
      "State Successfully Teleported!\n"
     ]
    }
   ],
   "source": [
    "import Quantum_Teleporter\n",
    "from Quantum_Teleporter import QuantumTeleporter\n",
    "\n",
    "psi = np.array([0.5533920757991503+0.3043529040180291j, 0.6147796854942953+0.4724113234904887j])    \n",
    "psi2 = np.array([1/np.sqrt(2), 1/np.sqrt(2)])\n",
    "input_states = np.array([psi, psi2]) \n",
    "# print(input_states)\n",
    "# teleportation_circuit(input_states)\n",
    "\n",
    "q_teleport = QuantumTeleporter(input_states)\n",
    "q_teleport.teleportation_circuit()"
   ]
  },
  {
   "cell_type": "markdown",
   "metadata": {},
   "source": [
    "## Quantum Teleporter Code (only for 1 qubit state instead of $n$ states)\n",
    "### (Only serves as an example and to visualize the functioning circuit)"
   ]
  },
  {
   "cell_type": "code",
   "execution_count": 16,
   "metadata": {},
   "outputs": [
    {
     "name": "stdout",
     "output_type": "stream",
     "text": [
      "Psi state:  (0.5533920757991503+0.3043529040180291j) (0.6147796854942953+0.4724113234904887j)\n",
      "Alice's state:  (0.5533920757991503+0.3043529040180291j) (0.6147796854942953+0.4724113234904887j)\n",
      "Bob's state:  (0.5533920757991502+0.30435290401802906j) (0.6147796854942955+0.4724113234904887j)\n",
      "State Successfully Teleported!\n"
     ]
    },
    {
     "data": {
      "image/png": "[encoded data removed]",
      "text/plain": [
       "<Figure size 1230.4x325.08 with 1 Axes>"
      ]
     },
     "execution_count": 16,
     "metadata": {},
     "output_type": "execute_result"
    }
   ],
   "source": [
    "#QUANTUM TELEPORTATION\n",
    "\n",
    "# Create a Quantum Circuit with 3 quantum wires and two classical wires\n",
    "qr = q.QuantumRegister(3, 'q')\n",
    "c0 = q.ClassicalRegister(1, 'c0')\n",
    "c1 = q.ClassicalRegister(1, 'c1')\n",
    "\n",
    "qc = q.QuantumCircuit(qr, c0, c1)\n",
    "\n",
    "#the state we'd like to teleport\n",
    "psi = np.array([0.5533920757991503+0.3043529040180291j, 0.6147796854942953+0.4724113234904887j])\n",
    "\n",
    "init_gate = q.extensions.Initialize(psi)\n",
    "\n",
    "#ansatz/initial state\n",
    "qc.append(init_gate, [0])\n",
    "\n",
    "qc.barrier()\n",
    "\n",
    "qc.snapshot('1')\n",
    "\n",
    "qc.barrier()\n",
    "\n",
    "#create bell pairs\n",
    "qc.h(1)\n",
    "qc.cx(1, 2)\n",
    "\n",
    "qc.barrier()\n",
    "\n",
    "#alice's gates\n",
    "qc.cx(0, 1)\n",
    "qc.h(0)\n",
    "\n",
    "qc.barrier()\n",
    "\n",
    "#measurements\n",
    "qc.measure(0, c0)\n",
    "qc.measure(1, c1)\n",
    "\n",
    "qc.barrier()\n",
    "\n",
    "qc.x(2).c_if(c0, 1)\n",
    "qc.z(2).c_if(c1, 1)\n",
    "\n",
    "qc.barrier()\n",
    "\n",
    "qc.snapshot('2')\n",
    "\n",
    "#qc.draw('mpl')\n",
    "# # Execute the circuit on the statevector simulator\n",
    "\n",
    "simulator = Aer.get_backend('statevector_simulator')\n",
    "\n",
    "# job = execute(qc, simulator, shots=1000)\n",
    "job = q.execute(qc, simulator)\n",
    "\n",
    "# Grab results from the job\n",
    "result = job.result()\n",
    "snapshots = result.data()['snapshots']['statevector']\n",
    "\n",
    "init_state = snapshots['1']\n",
    "final_state = snapshots['2']\n",
    "\n",
    "# # Returns counts\n",
    "# counts = result.get_counts(qc)\n",
    "# print(\"\\nTotal count for 00 and 11 are:\",counts)\n",
    "\n",
    "def check_same_state(alice, bob, psi):\n",
    "    a = alice[0]\n",
    "    b = [c for c in bob[0] if c != 0]\n",
    "    print(\"Psi state: \", psi[0], psi[1])\n",
    "    print(\"Alice's state: \", a[0], a[1])\n",
    "    print(\"Bob's state: \", b[0], b[1])\n",
    "    # For simplicity I am rounding and summing to check for equality\n",
    "    if np.round(a[0]+a[1], 5) == np.round(b[0]+ b[1], 5):\n",
    "        print(\"State Successfully Teleported!\")\n",
    "    else:\n",
    "        print(\"Error: Bob did not get the right state!\")\n",
    "\n",
    "# Check if it's the same state\n",
    "check_same_state(init_state, final_state, psi)\n",
    "\n",
    "# Draw the circuit\n",
    "qc.draw('mpl')"
   ]
  },
  {
   "cell_type": "markdown",
   "metadata": {},
   "source": [
    "## Superdense Coding\n",
    "Using one qubit to send two classical bits of information (i.e., $00, 01, 10, 11$, which are equal to $0, 1, 2,$ and $3$."
   ]
  },
  {
   "cell_type": "code",
   "execution_count": 21,
   "metadata": {},
   "outputs": [
    {
     "name": "stdin",
     "output_type": "stream",
     "text": [
      "What is your code? Options: 00, 10, 01, 11 -->  00\n"
     ]
    },
    {
     "data": {
      "image/png": "[encoded data removed]",
      "text/plain": [
       "<Figure size 658.679x204.68 with 1 Axes>"
      ]
     },
     "execution_count": 21,
     "metadata": {},
     "output_type": "execute_result"
    }
   ],
   "source": [
    "#SUPERDENSE CODING W/QUBITS\n",
    "\n",
    "#Defining things\n",
    "qr = q.QuantumRegister(2, 'q')\n",
    "#cr = q.ClassicalRegister(1, 'cr')\n",
    "#qc = q.QuantumCircuit(qr, cr)\n",
    "qc = q.QuantumCircuit(qr)\n",
    "\n",
    "def encode_message(qc, qubit, msg):\n",
    "    if msg == \"00\":\n",
    "        pass    # To send 00 we do nothing\n",
    "    elif msg == \"10\":\n",
    "        qc.x(qubit) # To send 10 we apply an X-gate\n",
    "    elif msg == \"01\":\n",
    "        qc.z(qubit) # To send 01 we apply a Z-gate\n",
    "    elif msg == \"11\":\n",
    "        qc.z(qubit) # To send 11, we apply a Z-gate\n",
    "        qc.x(qubit) # followed by an X-gate\n",
    "    else:\n",
    "        print(\"Invalid Message: Sending '00'\")\n",
    "        msg == \"00\"\n",
    "\n",
    "#state prep\n",
    "qc.h(0)\n",
    "qc.cx(0, 1)\n",
    "\n",
    "qc.barrier()\n",
    "\n",
    "msg = input(\"What is your code? Options: 00, 10, 01, 11 --> \")\n",
    "\n",
    "encode_message(qc, 0, msg)\n",
    "\n",
    "qc.barrier()\n",
    "\n",
    "#use the bell state measurement!\n",
    "qc.cx(0, 1)\n",
    "qc.h(0)\n",
    "\n",
    "qc.measure_all()\n",
    "\n",
    "simulator = Aer.get_backend('qasm_simulator')\n",
    "job = execute(qc, simulator, shots=1000)\n",
    "result = job.result()\n",
    "counts = result.get_counts()\n",
    "plot_histogram(counts)\n",
    "#qc.draw('mpl')"
   ]
  },
  {
   "cell_type": "code",
   "execution_count": 75,
   "metadata": {},
   "outputs": [
    {
     "data": {
      "image/png": "[encoded data removed]",
      "text/plain": [
       "<Figure size 504x360 with 1 Axes>"
      ]
     },
     "execution_count": 75,
     "metadata": {},
     "output_type": "execute_result"
    }
   ],
   "source": [
    "#HADAMARD TRANSFORM\n",
    "\n",
    "qc = q.QuantumCircuit(2)\n",
    "qc.h(0)\n",
    "qc.h(1)\n",
    "qc.measure_all()\n",
    "#qc.draw('mpl')\n",
    "\n",
    "simulator = Aer.get_backend('qasm_simulator')\n",
    "job = execute(qc, simulator, shots=1000)\n",
    "result = job.result()\n",
    "counts = result.get_counts()\n",
    "plot_histogram(counts)"
   ]
  },
  {
   "cell_type": "code",
   "execution_count": null,
   "metadata": {},
   "outputs": [],
   "source": []
  }
 ],
 "metadata": {
  "kernelspec": {
   "display_name": "Python 3",
   "language": "python",
   "name": "python3"
  },
  "language_info": {
   "codemirror_mode": {
    "name": "ipython",
    "version": 3
   },
   "file_extension": ".py",
   "mimetype": "text/x-python",
   "name": "python",
   "nbconvert_exporter": "python",
   "pygments_lexer": "ipython3",
   "version": "3.8.5"
  }
 },
 "nbformat": 4,
 "nbformat_minor": 4
}
