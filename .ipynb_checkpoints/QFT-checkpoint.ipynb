{
 "cells": [
  {
   "cell_type": "markdown",
   "metadata": {},
   "source": [
    "# Testing with the Quantum Fourier Transform\n",
    "\n",
    "**By:** Arjun Bhamra"
   ]
  },
  {
   "cell_type": "markdown",
   "metadata": {},
   "source": [
    "### Explaining the Discrete Fourier Transform and Quantum Fourier Transform\n",
    "\n",
    "Both the **Discrete Fourier Transform** (DFT) and **Quantum Fourier Transform** (QFT) are *change of basis* functions; the DFT converts from the \"time\" basis to the \"frequency\", or *fourier*, basis, and the QFT does something similar. A quantum analog is converting from the $Z$ basis in the Bloch sphere, where you can measure in $|0\\rangle$ and $|1\\rangle$, and the Hadamard (or $X$) basis, where you measure in $|+\\rangle$ and $|-\\rangle$.\n",
    "\n",
    "**DFT:**\n",
    "The Discrete Fourier Transform performs the mapping $x=\\begin{bmatrix}x_0 \\\\ x_1 \\\\ \\vdots \\\\ x_{N-1}\\end{bmatrix} \\xrightarrow{DFT} y=\\begin{bmatrix}y_0 \\\\ y_1 \\\\ \\vdots \\\\ y_{N-1}\\end{bmatrix}$ given by the function: \n",
    "\n",
    "$$y_k = \\frac{1}{\\sqrt{N}} \\sum_{j=0}^{N-1} x_j \\cdot \\omega^{jk}$$\n",
    "\n",
    "where $\\omega^{jk} = e^{2\\pi i \\frac{kj}{N}}$.\n",
    "\n",
    "**QFT:**\n",
    "The Quantum Fourier Transform performs a similar mapping. Given a state $|\\psi\\rangle = \\sum_{j=0}^{N-1}a_j|j\\rangle$, the QFT maps it to $|\\phi\\rangle = \\sum_{k=0}^{N-1}b_k|k\\rangle$, where:\n",
    "\n",
    "$$b_k = \\frac{1}{\\sqrt{N}} \\sum_{j=0}^{N-1} a_j \\cdot e^{2\\pi i \\frac{kj}{N}}$$.\n",
    "\n",
    "This is essentially the DFT acting on the quantum state, and the formula we use is nearly identical. Equivalently, we can also show that the mapping is:\n",
    "\n",
    "$$|j\\rangle \\xrightarrow{QFT} \\frac{1}{\\sqrt{N}} \\sum_{j=0}^{N-1}e^{2\\pi i \\frac{kj}{N}}|k\\rangle$$.\n",
    "\n",
    "**The Unitary Matrix for QFT:**\n",
    "The way we can apply the QFT is by creating a unitary matrix that we will then apply to the system's statevector. In summation notation, we can represent this matrix as such:\n",
    "$$U_{QFT} = \\frac{1}{\\sqrt{N}}\\sum_{x=0}^{N-1}\\sum_{y=0}^{N-1} \\omega^{jk}|y\\rangle\\langle x|$$\n",
    "$U_{QFT}$ can also be represented with $H, C-R_{\\frac{\\pi}{2}},$ and $SWAP$ gates.\n",
    "\n",
    "We can show that $U_{QFT}$, when expanded, takes the general form:\n",
    "\n",
    "$$U_{QFT}=\\frac{1}{\\sqrt{N}}\\begin{bmatrix}1 & 1 & 1 &\\ldots & 1 \\\\1 & \\omega^{(1)(1)} & \\omega^{(2)(1)} & \\ldots & \\omega^{(N-1)(1)} \\\\1 & \\omega^{(1)(2)} & \\omega^{(2)(2)} & \\ldots & \\omega^{(N-1)(2)} \\\\ \\vdots & \\vdots & \\vdots & & \\vdots \\\\1 & \\omega^{(1)(N-1)} & \\omega^{(2)(N-1} & \\ldots & \\omega^{(N-1)(N-1)}\\end{bmatrix}$$\n",
    "for $\\omega^{jk} = e^{2\\pi i \\frac{xy}{N}}$ as previously shown (**Note:** I've only replaced $kj$ with $xy$ for clarity given the previous summation definition, but it is, in effect, the same operation."
   ]
  },
  {
   "cell_type": "markdown",
   "metadata": {},
   "source": [
    "### Imports"
   ]
  },
  {
   "cell_type": "code",
   "execution_count": 15,
   "metadata": {},
   "outputs": [],
   "source": [
    "import qiskit as q\n",
    "from qiskit import *\n",
    "import numpy as np\n",
    "from qiskit.visualization import plot_histogram\n",
    "from qiskit.extensions import UnitaryGate\n",
    "from qiskit.extensions import Snapshot"
   ]
  },
  {
   "cell_type": "code",
   "execution_count": 6,
   "metadata": {},
   "outputs": [
    {
     "name": "stderr",
     "output_type": "stream",
     "text": [
      "/opt/anaconda3/lib/python3.8/site-packages/qiskit/providers/ibmq/ibmqfactory.py:192: UserWarning: Timestamps in IBMQ backend properties, jobs, and job results are all now in local time instead of UTC.\n",
      "  warnings.warn('Timestamps in IBMQ backend properties, jobs, and job results '\n"
     ]
    }
   ],
   "source": [
    "IBMQ.load_account()\n",
    "from qiskit.providers.ibmq import least_busy"
   ]
  },
  {
   "cell_type": "markdown",
   "metadata": {},
   "source": [
    "### Making the Code"
   ]
  },
  {
   "cell_type": "code",
   "execution_count": 16,
   "metadata": {},
   "outputs": [
    {
     "data": {
      "image/png": "[encoded data removed]",
      "text/plain": [
       "<Figure size 504x360 with 1 Axes>"
      ]
     },
     "execution_count": 16,
     "metadata": {},
     "output_type": "execute_result"
    }
   ],
   "source": [
    "num_qubits = 1 #number of qubits\n",
    "n=2**num_qubits\n",
    "\n",
    "#creating the circuit\n",
    "qr = q.QuantumRegister(num_qubits, 'q')\n",
    "cr = q.ClassicalRegister(num_qubits, 'c')\n",
    "qc = q.QuantumCircuit(qr, cr)\n",
    "\n",
    "#create the unitary gate for QFT\n",
    "qft_gate = (1/np.sqrt(n))*np.ones((n,n)).astype(np.complex)#initially\n",
    "\n",
    "for j in range(n):\n",
    "    for k in range(n):\n",
    "        qft_gate[j][k]*=np.e**(2*np.pi*1j*((j*k)/n))\n",
    "        \n",
    "#print(qft_gate)\n",
    "QFT = UnitaryGate(qft_gate, label=\"QFT\")\n",
    "\n",
    "qc.append(QFT, qr[:num_qubits])\n",
    "\n",
    "qc.measure(qr[:num_qubits], cr[:num_qubits])\n",
    "\n",
    "#qc.draw('mpl')\n",
    "\n",
    "qasm_sim = Aer.get_backend('qasm_simulator')\n",
    "shots = 1024\n",
    "qobj = assemble(qc)\n",
    "results = qasm_sim.run(qobj).result()\n",
    "answer = results.get_counts()\n",
    "counts = answer\n",
    "\n",
    "plot_histogram(counts)\n",
    "\n",
    "#Note here that the QFT is having the same effect as the Hadamard because the 1 qubit QFT IS A HADAMARD!"
   ]
  }
 ],
 "metadata": {
  "kernelspec": {
   "display_name": "Python 3",
   "language": "python",
   "name": "python3"
  },
  "language_info": {
   "codemirror_mode": {
    "name": "ipython",
    "version": 3
   },
   "file_extension": ".py",
   "mimetype": "text/x-python",
   "name": "python",
   "nbconvert_exporter": "python",
   "pygments_lexer": "ipython3",
   "version": "3.8.5"
  }
 },
 "nbformat": 4,
 "nbformat_minor": 4
}
