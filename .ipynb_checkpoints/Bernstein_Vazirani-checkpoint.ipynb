{
 "cells": [
  {
   "cell_type": "markdown",
   "metadata": {},
   "source": [
    "# Building the Bernstein-Vazirani Algorithm\n",
    "**By:** Arjun Bhamra"
   ]
  },
  {
   "cell_type": "markdown",
   "metadata": {},
   "source": [
    "### Problem Statement\n",
    "\n",
    "We are again given a black-box function $f$, which takes as input a string of bits $(x)$, and returns either $0$ or $1$, that is: $f(\\{x_0,x_1,x_2,\\dots\\})\\rightarrow 0$ or $1$ where $x_n$ is $0$ or $1$.\n",
    "\n",
    "Instead of the function being balanced or constant as in the Deutsch-Josza problem, now the function is guaranteed to return the bitwise product of the input with some string, $s$. In other words, given an input $x$, $f(x)=s \\cdot x\\pmod{2}$. We are expected to find $s$.\n",
    "\n",
    "**Note:** We can consider the expression $f(x)=s \\cdot x\\pmod{2}$ to be taking the inner product of the $s$ and $x$ bitstrings and applying the$\\pmod{2}$ operator."
   ]
  },
  {
   "cell_type": "markdown",
   "metadata": {},
   "source": [
    "### Imports"
   ]
  },
  {
   "cell_type": "code",
   "execution_count": 4,
   "metadata": {},
   "outputs": [],
   "source": [
    "import qiskit\n",
    "from qiskit import *\n",
    "import numpy as np\n",
    "from qiskit.visualization import plot_histogram\n",
    "import seaborn as sns\n",
    "from seaborn import *\n",
    "sns.set_theme(style=\"whitegrid\")"
   ]
  },
  {
   "cell_type": "code",
   "execution_count": 5,
   "metadata": {},
   "outputs": [
    {
     "name": "stderr",
     "output_type": "stream",
     "text": [
      "/opt/anaconda3/lib/python3.8/site-packages/qiskit/providers/ibmq/ibmqfactory.py:192: UserWarning: Timestamps in IBMQ backend properties, jobs, and job results are all now in local time instead of UTC.\n",
      "  warnings.warn('Timestamps in IBMQ backend properties, jobs, and job results '\n"
     ]
    }
   ],
   "source": [
    "IBMQ.load_account()\n",
    "from qiskit.providers.ibmq import least_busy"
   ]
  },
  {
   "cell_type": "markdown",
   "metadata": {},
   "source": [
    "### Creating the Class"
   ]
  },
  {
   "cell_type": "code",
   "execution_count": 29,
   "metadata": {},
   "outputs": [],
   "source": [
    "class BVazirani():\n",
    "    def __init__(self, input_string):\n",
    "        self.bitstring = input_string\n",
    "        self.answer=\"N/A\"\n",
    "    def bv_circuit(self):\n",
    "        n = len(self.bitstring)\n",
    "        qr = qiskit.QuantumRegister(n+1)\n",
    "        cr = qiskit.ClassicalRegister(n)\n",
    "        bv_circuit = qiskit.QuantumCircuit(qr, cr)\n",
    "        self.circuit = bv_circuit\n",
    "\n",
    "        #put anciliarry qubit into |-> state\n",
    "        bv_circuit.h(n)\n",
    "        bv_circuit.z(n)\n",
    "\n",
    "        #first hadamard transform\n",
    "        bv_circuit.h(qr[:n])\n",
    "        bv_circuit.barrier()\n",
    "\n",
    "        #inner product oracle\n",
    "        self.bitstring = self.bitstring[::-1] #reverse bitstring to fit qiskit's endianness\n",
    "        for q in range(n):\n",
    "            if self.bitstring[q] == '0':\n",
    "                bv_circuit.i(q)\n",
    "            else:\n",
    "                bv_circuit.cx(q, n)\n",
    "\n",
    "        #second hadamard transform\n",
    "        bv_circuit.barrier()\n",
    "        bv_circuit.h(qr[:n])\n",
    "\n",
    "        #measure\n",
    "        bv_circuit.measure(qr[:n], cr[:n])\n",
    "\n",
    "    def plot_counts_sim(self):\n",
    "        # use local simulator\n",
    "        qasm_sim = Aer.get_backend('qasm_simulator')\n",
    "        shots = 1024\n",
    "        qobj = assemble(self.circuit)\n",
    "        results = qasm_sim.run(qobj).result()\n",
    "        self.answer = results.get_counts()\n",
    "        counts = self.answer\n",
    "        x_list = list(counts.keys())\n",
    "        #print(x_list)\n",
    "        height_list = list(counts.values())\n",
    "        #print(height_list)\n",
    "\n",
    "        sns.barplot(x=x_list, y=height_list)\n",
    "     \n",
    "    def plot_counts_real(self):\n",
    "        provider = IBMQ.get_provider(hub='ibm-q')\n",
    "        backend = least_busy(provider.backends(filters=lambda x: x.configuration().n_qubits >= len(self.bitstring)+1\n",
    "                                    and not x.configuration().simulator\n",
    "                                    and x.status().operational==True))\n",
    "        #print(backend)\n",
    "        shots=1024\n",
    "        transpiled = transpile(self.circuit, backend)\n",
    "        qobj = assemble(transpiled)\n",
    "        results = backend.run(qobj).result()\n",
    "        self.answer = results.get_counts()\n",
    "        counts = self.answer\n",
    "        x_list = list(counts.keys())\n",
    "        #print(x_list)\n",
    "        height_list = list(counts.values())\n",
    "        #print(height_list)\n",
    "\n",
    "        sns.barplot(x=x_list, y=height_list)"
   ]
  },
  {
   "cell_type": "code",
   "execution_count": 32,
   "metadata": {},
   "outputs": [
    {
     "data": {
      "image/png": "[encoded data removed]",
      "text/plain": [
       "<Figure size 432x288 with 1 Axes>"
      ]
     },
     "metadata": {},
     "output_type": "display_data"
    }
   ],
   "source": [
    "bv = BVazirani(\"011\")\n",
    "bv.bv_circuit()\n",
    "#bv.plot_counts_sim()\n",
    "bv.plot_counts_real()"
   ]
  }
 ],
 "metadata": {
  "kernelspec": {
   "display_name": "Python 3",
   "language": "python",
   "name": "python3"
  },
  "language_info": {
   "codemirror_mode": {
    "name": "ipython",
    "version": 3
   },
   "file_extension": ".py",
   "mimetype": "text/x-python",
   "name": "python",
   "nbconvert_exporter": "python",
   "pygments_lexer": "ipython3",
   "version": "3.8.5"
  }
 },
 "nbformat": 4,
 "nbformat_minor": 4
}
