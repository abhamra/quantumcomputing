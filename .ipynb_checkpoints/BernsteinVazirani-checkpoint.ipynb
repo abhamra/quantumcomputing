{
 "cells": [
  {
   "cell_type": "markdown",
   "metadata": {},
   "source": [
    "# Building the Bernstein-Vazirani Algorithm\n",
    "**By:** Arjun Bhamra"
   ]
  },
  {
   "cell_type": "markdown",
   "metadata": {},
   "source": [
    "### Problem Statement\n",
    "\n",
    "We are again given a black-box function $f$, which takes as input a string of bits $(x)$, and returns either $0$ or $1$, that is: $f(\\{x_0,x_1,x_2,\\dots\\})\\rightarrow 0$ or $1$ where $x_n$ is $0$ or $1$.\n",
    "\n",
    "Instead of the function being balanced or constant as in the Deutsch-Josza problem, now the function is guaranteed to return the bitwise product of the input with some string, $s$. In other words, given an input $x$, $f(x)=s \\cdot x\\pmod{2}$. We are expected to find $s$.\n",
    "\n",
    "**Note:** We can consider the expression $f(x)=s \\cdot x\\pmod{2}$ to be taking the inner product of the $s$ and $x$ bitstrings and applying the$\\pmod{2}$ operator."
   ]
  },
  {
   "cell_type": "markdown",
   "metadata": {},
   "source": [
    "### Imports"
   ]
  },
  {
   "cell_type": "code",
   "execution_count": 2,
   "metadata": {},
   "outputs": [
    {
     "name": "stderr",
     "output_type": "stream",
     "text": [
      "ibmqfactory.load_account:WARNING:2021-03-24 14:34:14,249: Credentials are already in use. The existing account in the session will be replaced.\n"
     ]
    }
   ],
   "source": [
    "import qiskit as q\n",
    "from qiskit import *\n",
    "import numpy as np\n",
    "from qiskit.visualization import plot_histogram\n",
    "from qiskit.tools.visualization import circuit_drawer\n",
    "IBMQ.load_account()\n",
    "from qiskit.providers.ibmq import least_busy"
   ]
  },
  {
   "cell_type": "markdown",
   "metadata": {},
   "source": [
    "### Creating the Class"
   ]
  },
  {
   "cell_type": "code",
   "execution_count": 7,
   "metadata": {},
   "outputs": [],
   "source": [
    "class BVazirani():\n",
    "    def __init__(self, input_string):\n",
    "        self.bitstring = input_string\n",
    "    def bv_circuit(self):\n",
    "        n = len(self.bitstring)\n",
    "    #on hold for now"
   ]
  },
  {
   "cell_type": "code",
   "execution_count": 5,
   "metadata": {},
   "outputs": [
    {
     "name": "stdout",
     "output_type": "stream",
     "text": [
      "1001\n"
     ]
    }
   ],
   "source": [
    "bv = BVazirani(\"1001\")\n",
    "print(bv.bitstring)"
   ]
  }
 ],
 "metadata": {
  "kernelspec": {
   "display_name": "Python 3",
   "language": "python",
   "name": "python3"
  },
  "language_info": {
   "codemirror_mode": {
    "name": "ipython",
    "version": 3
   },
   "file_extension": ".py",
   "mimetype": "text/x-python",
   "name": "python",
   "nbconvert_exporter": "python",
   "pygments_lexer": "ipython3",
   "version": "3.8.5"
  }
 },
 "nbformat": 4,
 "nbformat_minor": 4
}
