{
 "cells": [
  {
   "cell_type": "markdown",
   "metadata": {},
   "source": [
    "# Building an $n$ Qubit Quantum Teleporter\n",
    "#### By: Arjun Bhamra"
   ]
  },
  {
   "cell_type": "markdown",
   "metadata": {},
   "source": [
    "### Imports"
   ]
  },
  {
   "cell_type": "code",
   "execution_count": 7,
   "metadata": {},
   "outputs": [
    {
     "name": "stderr",
     "output_type": "stream",
     "text": [
      "configrc.store_credentials:WARNING:2021-03-14 23:43:34,940: Credentials already present. Set overwrite=True to overwrite.\n"
     ]
    }
   ],
   "source": [
    "import qiskit as q\n",
    "from qiskit import *\n",
    "import numpy as np\n",
    "IBMQ.save_account(\"85d62c1de28ec95ddd2e38b8ad23ea3bb797c5bd5a17dc816fb2767c5141745b25d9a3fbf866f09a3d24228ed05f2576f87a3eb2e289cbe3154c639c8d96c212\")\n",
    "from qiskit.visualization import plot_histogram"
   ]
  },
  {
   "cell_type": "markdown",
   "metadata": {},
   "source": [
    "### Functions"
   ]
  },
  {
   "cell_type": "code",
   "execution_count": 16,
   "metadata": {},
   "outputs": [],
   "source": [
    "#creates the bell state\n",
    "def bell_state(qc, a, b):\n",
    "    qc.h(a)\n",
    "    qc.cx(a, b)\n",
    "\n",
    "#uses the bell measurement\n",
    "def bell_measurement(qc, a, b):\n",
    "    qc.cx(a, b)\n",
    "    qc.h(a)\n",
    "\n",
    "#the correction gates based on the results    \n",
    "def q_c_correction(qc, a, c0, c1):\n",
    "    qc.x(a).c_if(c0, 1)\n",
    "    qc.z(a).c_if(c1, 1)\n",
    "    \n",
    "#creating the actual circuit\n",
    "#here, input_states is a list of all of the psis that Alice is trying to send to Bob\n",
    "def teleportation_circuit(input_states):\n",
    "    qr = q.QuantumRegister(3*len(input_states), 'q')#for every input states, 3 quantum wires are necessary\n",
    "    \n",
    "    #list of all the classical wires (their names) (need 2 classical wires for every input state)\n",
    "    c_wires = [\"c\"+str(x) for x in range(len(input_states)*2)]\n",
    "\n",
    "    classical_wires = {} #creating an empty dictionary\n",
    "    #populating the classical_wires dictionary with new classical register objects\n",
    "    for i in range(0, len(c_wires)):\n",
    "        classical_wires[c_wires[i]]=q.ClassicalRegister(1, c_wires[i])\n",
    "    \n",
    "    #Creating the Quantum Circuit\n",
    "    qc = q.QuantumCircuit(q.QuantumRegister(3*len(input_states), 'q'), q.ClassicalRegister(2*len(input_states), 'c'))\n",
    "    \n",
    "    "
   ]
  },
  {
   "cell_type": "code",
   "execution_count": 56,
   "metadata": {},
   "outputs": [
    {
     "name": "stdout",
     "output_type": "stream",
     "text": [
      "Clbit(ClassicalRegister(2, 'c'), 0)\n"
     ]
    },
    {
     "data": {
      "image/png": "[encoded data removed]",
      "text/plain": [
       "<Figure size 327.397x264.88 with 1 Axes>"
      ]
     },
     "execution_count": 56,
     "metadata": {},
     "output_type": "execute_result"
    }
   ],
   "source": [
    "qr = q.QuantumRegister(3, 'q')\n",
    "#c0 = q.ClassicalRegister(1, 'c0')\n",
    "#c1 = q.ClassicalRegister(1, 'c1')\n",
    "cr = q.ClassicalRegister(2, 'c')\n",
    "\n",
    "qc = q.QuantumCircuit(qr, cr)\n",
    "\n",
    "print(cr[0])\n",
    "\n",
    "qc.h(qr[0])\n",
    "qc.measure(qr[0], cr[0])\n",
    "qc.measure(qr[1], cr[1])\n",
    "\n",
    "#testing the classical ifs\n",
    "qc.x(qr[2]).c_if(cr, 1)\n",
    "qc.z(qr[2]).c_if(cr, 1)\n",
    "\n",
    "#qc.measure(qr[0],cr[0])\n",
    "#qc.measure(qr[1],cr[1])\n",
    "qc.draw('mpl')"
   ]
  },
  {
   "cell_type": "code",
   "execution_count": 48,
   "metadata": {},
   "outputs": [
    {
     "ename": "CircuitError",
     "evalue": "'c_if must be used with a classical register'",
     "output_type": "error",
     "traceback": [
      "\u001b[0;31m---------------------------------------------------------------------------\u001b[0m",
      "\u001b[0;31mCircuitError\u001b[0m                              Traceback (most recent call last)",
      "\u001b[0;32m<ipython-input-48-5c6f2b849d32>\u001b[0m in \u001b[0;36m<module>\u001b[0;34m\u001b[0m\n\u001b[1;32m     42\u001b[0m \u001b[0mqc\u001b[0m\u001b[0;34m.\u001b[0m\u001b[0mbarrier\u001b[0m\u001b[0;34m(\u001b[0m\u001b[0;34m)\u001b[0m\u001b[0;34m\u001b[0m\u001b[0;34m\u001b[0m\u001b[0m\n\u001b[1;32m     43\u001b[0m \u001b[0;34m\u001b[0m\u001b[0m\n\u001b[0;32m---> 44\u001b[0;31m \u001b[0mqc\u001b[0m\u001b[0;34m.\u001b[0m\u001b[0mx\u001b[0m\u001b[0;34m(\u001b[0m\u001b[0;36m2\u001b[0m\u001b[0;34m)\u001b[0m\u001b[0;34m.\u001b[0m\u001b[0mc_if\u001b[0m\u001b[0;34m(\u001b[0m\u001b[0mcr\u001b[0m\u001b[0;34m[\u001b[0m\u001b[0;36m0\u001b[0m\u001b[0;34m]\u001b[0m\u001b[0;34m,\u001b[0m \u001b[0;36m1\u001b[0m\u001b[0;34m)\u001b[0m\u001b[0;34m\u001b[0m\u001b[0;34m\u001b[0m\u001b[0m\n\u001b[0m\u001b[1;32m     45\u001b[0m \u001b[0mqc\u001b[0m\u001b[0;34m.\u001b[0m\u001b[0mz\u001b[0m\u001b[0;34m(\u001b[0m\u001b[0;36m2\u001b[0m\u001b[0;34m)\u001b[0m\u001b[0;34m.\u001b[0m\u001b[0mc_if\u001b[0m\u001b[0;34m(\u001b[0m\u001b[0mcr\u001b[0m\u001b[0;34m[\u001b[0m\u001b[0;36m1\u001b[0m\u001b[0;34m]\u001b[0m\u001b[0;34m,\u001b[0m \u001b[0;36m1\u001b[0m\u001b[0;34m)\u001b[0m\u001b[0;34m\u001b[0m\u001b[0;34m\u001b[0m\u001b[0m\n\u001b[1;32m     46\u001b[0m \u001b[0;34m\u001b[0m\u001b[0m\n",
      "\u001b[0;32m/opt/anaconda3/lib/python3.8/site-packages/qiskit/circuit/instructionset.py\u001b[0m in \u001b[0;36mc_if\u001b[0;34m(self, classical, val)\u001b[0m\n\u001b[1;32m     57\u001b[0m         \u001b[0;34m\"\"\"Add condition on classical register to all instructions.\"\"\"\u001b[0m\u001b[0;34m\u001b[0m\u001b[0;34m\u001b[0m\u001b[0m\n\u001b[1;32m     58\u001b[0m         \u001b[0;32mfor\u001b[0m \u001b[0mgate\u001b[0m \u001b[0;32min\u001b[0m \u001b[0mself\u001b[0m\u001b[0;34m.\u001b[0m\u001b[0minstructions\u001b[0m\u001b[0;34m:\u001b[0m\u001b[0;34m\u001b[0m\u001b[0;34m\u001b[0m\u001b[0m\n\u001b[0;32m---> 59\u001b[0;31m             \u001b[0mgate\u001b[0m\u001b[0;34m.\u001b[0m\u001b[0mc_if\u001b[0m\u001b[0;34m(\u001b[0m\u001b[0mclassical\u001b[0m\u001b[0;34m,\u001b[0m \u001b[0mval\u001b[0m\u001b[0;34m)\u001b[0m\u001b[0;34m\u001b[0m\u001b[0;34m\u001b[0m\u001b[0m\n\u001b[0m\u001b[1;32m     60\u001b[0m         \u001b[0;32mreturn\u001b[0m \u001b[0mself\u001b[0m\u001b[0;34m\u001b[0m\u001b[0;34m\u001b[0m\u001b[0m\n",
      "\u001b[0;32m/opt/anaconda3/lib/python3.8/site-packages/qiskit/circuit/instruction.py\u001b[0m in \u001b[0;36mc_if\u001b[0;34m(self, classical, val)\u001b[0m\n\u001b[1;32m    300\u001b[0m         \u001b[0;34m\"\"\"Add classical condition on register classical and value val.\"\"\"\u001b[0m\u001b[0;34m\u001b[0m\u001b[0;34m\u001b[0m\u001b[0m\n\u001b[1;32m    301\u001b[0m         \u001b[0;32mif\u001b[0m \u001b[0;32mnot\u001b[0m \u001b[0misinstance\u001b[0m\u001b[0;34m(\u001b[0m\u001b[0mclassical\u001b[0m\u001b[0;34m,\u001b[0m \u001b[0mClassicalRegister\u001b[0m\u001b[0;34m)\u001b[0m\u001b[0;34m:\u001b[0m\u001b[0;34m\u001b[0m\u001b[0;34m\u001b[0m\u001b[0m\n\u001b[0;32m--> 302\u001b[0;31m             \u001b[0;32mraise\u001b[0m \u001b[0mCircuitError\u001b[0m\u001b[0;34m(\u001b[0m\u001b[0;34m\"c_if must be used with a classical register\"\u001b[0m\u001b[0;34m)\u001b[0m\u001b[0;34m\u001b[0m\u001b[0;34m\u001b[0m\u001b[0m\n\u001b[0m\u001b[1;32m    303\u001b[0m         \u001b[0;32mif\u001b[0m \u001b[0mval\u001b[0m \u001b[0;34m<\u001b[0m \u001b[0;36m0\u001b[0m\u001b[0;34m:\u001b[0m\u001b[0;34m\u001b[0m\u001b[0;34m\u001b[0m\u001b[0m\n\u001b[1;32m    304\u001b[0m             \u001b[0;32mraise\u001b[0m \u001b[0mCircuitError\u001b[0m\u001b[0;34m(\u001b[0m\u001b[0;34m\"condition value should be non-negative\"\u001b[0m\u001b[0;34m)\u001b[0m\u001b[0;34m\u001b[0m\u001b[0;34m\u001b[0m\u001b[0m\n",
      "\u001b[0;31mCircuitError\u001b[0m: 'c_if must be used with a classical register'"
     ]
    }
   ],
   "source": [
    "#QUANTUM TELEPORTATION\n",
    "\n",
    "# Create a Quantum Circuit with 3 quantum wires and two classical wires\n",
    "qr = q.QuantumRegister(3, 'q')\n",
    "#c0 = q.ClassicalRegister(1, 'c0')\n",
    "#c1 = q.ClassicalRegister(1, 'c1')\n",
    "cr = q.ClassicalRegister(2, 'c')\n",
    "\n",
    "#qc = q.QuantumCircuit(qr, c0, c1)\n",
    "qc = q.QuantumCircuit(qr, cr)\n",
    "\n",
    "#the state we'd like to teleport\n",
    "psi = np.array([0.5533920757991503+0.3043529040180291j, 0.6147796854942953+0.4724113234904887j])\n",
    "\n",
    "init_gate = q.extensions.Initialize(psi)\n",
    "\n",
    "#ansatz/initial state\n",
    "qc.append(init_gate, [0])\n",
    "\n",
    "qc.barrier()\n",
    "\n",
    "qc.snapshot('1')\n",
    "\n",
    "qc.barrier()\n",
    "\n",
    "#create bell pairs\n",
    "qc.h(1)\n",
    "qc.cx(1, 2)\n",
    "\n",
    "qc.barrier()\n",
    "\n",
    "#alice's gates\n",
    "qc.cx(0, 1)\n",
    "qc.h(0)\n",
    "\n",
    "qc.barrier()\n",
    "\n",
    "#measurements\n",
    "qc.measure(0, c0)\n",
    "qc.measure(1, c1)\n",
    "\n",
    "qc.barrier()\n",
    "\n",
    "qc.x(2).c_if(c0, 1)\n",
    "qc.z(2).c_if(c1, 1)\n",
    "\n",
    "qc.barrier()\n",
    "\n",
    "qc.snapshot('2')\n",
    "\n",
    "#qc.draw('mpl')\n",
    "# # Execute the circuit on the statevector simulator\n",
    "\n",
    "simulator = Aer.get_backend('statevector_simulator')\n",
    "\n",
    "# job = execute(qc, simulator, shots=1000)\n",
    "job = q.execute(qc, simulator)\n",
    "\n",
    "# Grab results from the job\n",
    "result = job.result()\n",
    "snapshots = result.data()['snapshots']['statevector']\n",
    "\n",
    "init_state = snapshots['1']\n",
    "final_state = snapshots['2']\n",
    "\n",
    "# # Returns counts\n",
    "# counts = result.get_counts(qc)\n",
    "# print(\"\\nTotal count for 00 and 11 are:\",counts)\n",
    "\n",
    "def check_same_state(alice, bob, psi):\n",
    "    a = alice[0]\n",
    "    b = [c for c in bob[0] if c != 0]\n",
    "    print(\"Psi state: \", psi[0], psi[1])\n",
    "    print(\"Alice's state: \", a[0], a[1])\n",
    "    print(\"Bob's state: \", b[0], b[1])\n",
    "    # For simplicity I am rounding and summing to check for equality\n",
    "    if np.round(a[0]+a[1], 5) == np.round(b[0]+ b[1], 5):\n",
    "        print(\"State Successfully Teleported!\")\n",
    "    else:\n",
    "        print(\"Error: Bob did not get the right state!\")\n",
    "\n",
    "# Check if it's the same state\n",
    "check_same_state(init_state, final_state, psi)\n",
    "\n",
    "# Draw the circuit\n",
    "qc.draw('mpl')"
   ]
  },
  {
   "cell_type": "code",
   "execution_count": null,
   "metadata": {},
   "outputs": [],
   "source": []
  }
 ],
 "metadata": {
  "kernelspec": {
   "display_name": "Python 3",
   "language": "python",
   "name": "python3"
  },
  "language_info": {
   "codemirror_mode": {
    "name": "ipython",
    "version": 3
   },
   "file_extension": ".py",
   "mimetype": "text/x-python",
   "name": "python",
   "nbconvert_exporter": "python",
   "pygments_lexer": "ipython3",
   "version": "3.8.5"
  }
 },
 "nbformat": 4,
 "nbformat_minor": 4
}
