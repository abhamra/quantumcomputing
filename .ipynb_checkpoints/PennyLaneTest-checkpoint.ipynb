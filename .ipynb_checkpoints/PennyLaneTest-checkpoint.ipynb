{
 "cells": [
  {
   "cell_type": "markdown",
   "metadata": {},
   "source": [
    "# Working with PennyLane (Qubit Rotation)\n",
    "**By:** Arjun Bhamra"
   ]
  },
  {
   "cell_type": "markdown",
   "metadata": {},
   "source": [
    "### Imports"
   ]
  },
  {
   "cell_type": "code",
   "execution_count": 2,
   "metadata": {},
   "outputs": [],
   "source": [
    "import pennylane as qml\n",
    "from pennylane import numpy as np"
   ]
  },
  {
   "cell_type": "markdown",
   "metadata": {},
   "source": [
    "### First Test"
   ]
  },
  {
   "cell_type": "code",
   "execution_count": 6,
   "metadata": {},
   "outputs": [],
   "source": [
    "#initializing the circuit\n",
    "def my_quantum_function(x, y):\n",
    "    qml.RZ(x, wires=0)\n",
    "    qml.CNOT(wires=[0,1])\n",
    "    qml.RY(y, wires=1)\n",
    "    return qml.expval(qml.PauliZ(0)), qml.expval(qml.PauliZ(1))#for multiple measurements\n",
    "\n",
    "dev = qml.device('default.qubit', wires=2, shots=1000, analytic=False)"
   ]
  },
  {
   "cell_type": "code",
   "execution_count": 7,
   "metadata": {},
   "outputs": [],
   "source": [
    "#creating a qnode to work with\n",
    "circuit = qml.QNode(my_quantum_function, dev)"
   ]
  },
  {
   "cell_type": "code",
   "execution_count": 8,
   "metadata": {},
   "outputs": [
    {
     "name": "stdout",
     "output_type": "stream",
     "text": [
      "[1.   0.77]\n"
     ]
    }
   ],
   "source": [
    "print(circuit(np.pi/4, 0.7))"
   ]
  },
  {
   "cell_type": "code",
   "execution_count": 9,
   "metadata": {},
   "outputs": [
    {
     "name": "stdout",
     "output_type": "stream",
     "text": [
      " 0: ──RZ(0.785)──╭C───────────┤ ⟨Z⟩ \n",
      " 1: ─────────────╰X──RY(0.7)──┤ ⟨Z⟩ \n",
      "\n"
     ]
    }
   ],
   "source": [
    "print(circuit.draw())"
   ]
  },
  {
   "cell_type": "markdown",
   "metadata": {},
   "source": [
    "### Qubit Rotation"
   ]
  },
  {
   "cell_type": "markdown",
   "metadata": {},
   "source": [
    "To see how PennyLane allows the easy construction and optimization of quantum functions, let’s consider the simple case of qubit rotation the PennyLane version of the ‘Hello, world!’ example.\n",
    "\n",
    "The task at hand is to optimize two rotation gates in order to flip a single qubit from state $|0\\rangle$ to state $|1\\rangle$.\n",
    "\n",
    "The circuit should look like:\n",
    "$|0\\rangle - R_x(\\phi_1)-R_y(\\phi_2)-[meas]-|1\\rangle$, where $[meas]$ is the measurement operator. We're looking to optimize $\\phi_1$ and $\\phi_2$.\n",
    "\n",
    "We will be following [this](https://pennylane.ai/qml/demos/tutorial_qubit_rotation.html) tutorial from the PennyLane website."
   ]
  },
  {
   "cell_type": "markdown",
   "metadata": {},
   "source": [
    "### Doing the math"
   ]
  },
  {
   "cell_type": "markdown",
   "metadata": {},
   "source": [
    "**Step 1:** Initialize State $|0\\rangle$\n",
    "\n",
    "**Step 2:** Apply the rotation gate $$R_x(\\phi_1) = e^{-i\\phi_1\\frac{\\sigma_x}{2}} = \\begin{bmatrix}\\cos{\\frac{\\phi_1}{2}} && -i\\sin{\\frac{\\phi_1}{2}} \\\\ -i\\sin{\\frac{\\phi_1}{2}} && \\cos{\\frac{\\phi_1}{2}}\\end{bmatrix}$$\n",
    "\n",
    "**Step 3:** Apply the rotation gate $$R_y(\\phi_2) = e^{-i\\phi_2\\frac{\\sigma_x}{2}} = \\begin{bmatrix}\\cos{\\frac{\\phi_2}{2}} && -i\\sin{\\frac{\\phi_2}{2}} \\\\ -i\\sin{\\frac{\\phi_2}{2}} && \\cos{\\frac{\\phi_2}{2}}\\end{bmatrix}$$\n",
    "\n",
    "At this point, the qubit is now in the state $$|\\psi\\rangle = R_y(\\phi_2)R_x(\\phi_1)|0\\rangle$$\n",
    "\n",
    "Finally, measure the state by finding the **expectation value** with respect to the $Z$-basis using $$\\langle\\psi|\\sigma_z|\\psi\\rangle = \\langle0∣R_x(\\phi_1)^{\\dagger}R_y(\\phi_2)^{\\dagger}\\sigma_zR_y(\\phi_2)R_x(\\phi_1)∣0\\rangle=cos(\\phi_1)cos(\\phi_2)$$\n",
    "\n",
    "Depending on the circuit parameters $\\phi_1$ and $\\phi_2$, the output expectation lies between $1$ (if $|\\psi\\rangle=|0\\rangle$) and $−1$ (if $|\\psi\\rangle=|1\\rangle$)."
   ]
  },
  {
   "cell_type": "markdown",
   "metadata": {},
   "source": [
    "### Making the Qubit Rotation Circuit with PennyLane"
   ]
  },
  {
   "cell_type": "markdown",
   "metadata": {},
   "source": [
    "#### Imports"
   ]
  },
  {
   "cell_type": "code",
   "execution_count": 6,
   "metadata": {},
   "outputs": [],
   "source": [
    "import pennylane as qml\n",
    "from pennylane import numpy as np"
   ]
  },
  {
   "cell_type": "markdown",
   "metadata": {},
   "source": [
    "#### PennyLane: Devices\n",
    "**Device:** Any computational object that can apply quantum operations and return an measurement value is called a quantum device."
   ]
  },
  {
   "cell_type": "code",
   "execution_count": 7,
   "metadata": {},
   "outputs": [],
   "source": [
    "dev1 = qml.device(\"default.qubit\", wires=1)\n",
    "#default qubit refers to the type of model used, and wires is obviously the number of qubits"
   ]
  },
  {
   "cell_type": "markdown",
   "metadata": {},
   "source": [
    "#### PennyLane: QNodes\n",
    "**QNode:** QNodes are an abstract encapsulation of a quantum function, described by a quantum circuit. QNodes are bound to a particular quantum device, which is used to evaluate expectation and variance values of this circuit. \n",
    "\n",
    "You can create QNodes with the `QNode` class or the `qnode()` decorator"
   ]
  },
  {
   "cell_type": "markdown",
   "metadata": {},
   "source": [
    "#### Creating a Circuit Function\n",
    "We create a circuit function first so we can evaluate it in the `QNode`. Here, our circuit is going to be $|\\psi\\rangle = R_y(\\phi_2)R_x(\\phi_1)|0\\rangle$ as seen above.\n",
    "\n",
    "**Note:** `params`, as seen below, can be a tuple, list, or array that takes in a series of parameters, and we use the individual elements as gate parameters (see code).\n",
    "\n",
    "**Note:** We must always specify the subsystem the operation applies to, by passing the `wires` argument; this may be a *list* or an *integer*, depending on how many wires the operation acts on."
   ]
  },
  {
   "cell_type": "code",
   "execution_count": 8,
   "metadata": {},
   "outputs": [],
   "source": [
    "def circuit(params):\n",
    "    qml.RX(params[0], wires=0)\n",
    "    qml.RY(params[1], wires=0)\n",
    "    #applying both gates to first (and only) wire, giving them one of the two params respectively\n",
    "    return qml.expval(qml.PauliZ(0))\n",
    "    #finding the expectation value/measurement of the circuit"
   ]
  },
  {
   "cell_type": "markdown",
   "metadata": {},
   "source": [
    "#### Converting to a QNode and running"
   ]
  },
  {
   "cell_type": "code",
   "execution_count": 9,
   "metadata": {},
   "outputs": [],
   "source": [
    "@qml.qnode(dev1)\n",
    "def circuit(params):\n",
    "    qml.RX(params[0], wires=0)\n",
    "    qml.RY(params[1], wires=0)\n",
    "    return qml.expval(qml.PauliZ(0))"
   ]
  },
  {
   "cell_type": "code",
   "execution_count": 10,
   "metadata": {},
   "outputs": [
    {
     "name": "stdout",
     "output_type": "stream",
     "text": [
      "0.8515405859048366\n",
      " 0: ──RX(0.54)──RY(0.12)──┤ ⟨Z⟩ \n",
      "\n"
     ]
    }
   ],
   "source": [
    "print(circuit([0.54, 0.12]))\n",
    "print(circuit.draw())"
   ]
  },
  {
   "cell_type": "markdown",
   "metadata": {},
   "source": [
    "#### Calculating Quantum Gradients\n",
    "We used the `grad()` function to calculate the gradients of the circuit.\n",
    "This returns another function, representing the gradient (**i.e., the vector of partial derivatives**) of `circuit`. \n",
    "\n",
    "In this case, the function circuit takes one argument (`params`), so we specify `argnum=0`. Because the argument has two elements, the returned gradient is two-dimensional. We can then evaluate this gradient function at any point in the parameter space."
   ]
  },
  {
   "cell_type": "code",
   "execution_count": 11,
   "metadata": {},
   "outputs": [],
   "source": [
    "dcircuit = qml.grad(circuit, argnum=0)"
   ]
  },
  {
   "cell_type": "code",
   "execution_count": 12,
   "metadata": {},
   "outputs": [
    {
     "name": "stdout",
     "output_type": "stream",
     "text": [
      "[array(-0.51043865), array(-0.1026782)]\n"
     ]
    }
   ],
   "source": [
    "print(dcircuit([0.54, 0.12]))"
   ]
  },
  {
   "cell_type": "markdown",
   "metadata": {},
   "source": [
    "**A Note On Arguments:**\n",
    "\n",
    "Quantum circuit functions, being a restricted subset of Python functions, can also make use of multiple positional arguments and keyword arguments. For example, we could have defined the above quantum circuit function using two positional arguments, instead of one array argument:"
   ]
  },
  {
   "cell_type": "code",
   "execution_count": 13,
   "metadata": {},
   "outputs": [],
   "source": [
    "@qml.qnode(dev1)\n",
    "def circuit2(phi1, phi2):\n",
    "    qml.RX(phi1, wires=0)\n",
    "    qml.RY(phi2, wires=0)\n",
    "    return qml.expval(qml.PauliZ(0))"
   ]
  },
  {
   "cell_type": "code",
   "execution_count": 14,
   "metadata": {},
   "outputs": [
    {
     "name": "stdout",
     "output_type": "stream",
     "text": [
      "(array(-0.51043865), array(-0.1026782))\n"
     ]
    }
   ],
   "source": [
    "dcircuit = qml.grad(circuit2, argnum=[0, 1])\n",
    "print(dcircuit(0.54, 0.12))"
   ]
  },
  {
   "cell_type": "markdown",
   "metadata": {},
   "source": [
    "#### Optimization of the Parameters"
   ]
  },
  {
   "cell_type": "markdown",
   "metadata": {},
   "source": [
    "Use PennyLane’s built-in optimizers to optimize the two circuit parameters $\\phi_1$ and $\\phi_2$ such that the qubit, originally in state $|0\\rangle$, is rotated to be in state $|1\\rangle$. This is equivalent to measuring a Pauli-Z expectation value of $−1$, since the state $|1\\rangle$ is an eigenvector of the Pauli-Z matrix with eigenvalue $\\lambda=−1$.\n",
    "\n",
    "To do so, we need to define a **cost** function. By minimizing the cost function, the optimizer will determine the values of the circuit parameters that produce the desired outcome.\n",
    "\n",
    "In this case, our desired outcome is a Pauli-Z expectation value of $−1$. Since we know that the Pauli-Z expectation is bound between $[−1,1]$, we can define our cost directly as the output of the QNode:"
   ]
  },
  {
   "cell_type": "code",
   "execution_count": 15,
   "metadata": {},
   "outputs": [],
   "source": [
    "def cost(x):\n",
    "    return circuit(x)"
   ]
  },
  {
   "cell_type": "code",
   "execution_count": 16,
   "metadata": {},
   "outputs": [
    {
     "name": "stdout",
     "output_type": "stream",
     "text": [
      "0.9998675058299389\n"
     ]
    }
   ],
   "source": [
    "#test\n",
    "init_params = np.array([0.011, 0.012])\n",
    "print(cost(init_params))"
   ]
  },
  {
   "cell_type": "code",
   "execution_count": 17,
   "metadata": {},
   "outputs": [
    {
     "name": "stdout",
     "output_type": "stream",
     "text": [
      "Cost after step     5:  0.9961778\n",
      "Cost after step    10:  0.8974944\n",
      "Cost after step    15:  0.1440490\n",
      "Cost after step    20: -0.1536720\n",
      "Cost after step    25: -0.9152496\n",
      "Cost after step    30: -0.9994046\n",
      "Cost after step    35: -0.9999964\n",
      "Cost after step    40: -1.0000000\n",
      "Cost after step    45: -1.0000000\n",
      "Cost after step    50: -1.0000000\n",
      "Cost after step    55: -1.0000000\n",
      "Cost after step    60: -1.0000000\n",
      "Cost after step    65: -1.0000000\n",
      "Cost after step    70: -1.0000000\n",
      "Cost after step    75: -1.0000000\n",
      "Cost after step    80: -1.0000000\n",
      "Cost after step    85: -1.0000000\n",
      "Cost after step    90: -1.0000000\n",
      "Cost after step    95: -1.0000000\n",
      "Cost after step   100: -1.0000000\n",
      "Optimized rotation angles: [7.15266381e-18 3.14159265e+00]\n"
     ]
    }
   ],
   "source": [
    "#make the optimizer\n",
    "opt = qml.GradientDescentOptimizer(stepsize=0.4)\n",
    "\n",
    "#num of steps/iterations\n",
    "steps=100\n",
    "\n",
    "params = init_params\n",
    "\n",
    "#optimize\n",
    "for i in range(steps):\n",
    "    params = opt.step(cost, params)\n",
    "    #the step function takes in an objective function (that calculates the cost) and the parameters, operating on \n",
    "    #a step by step iterative basis\n",
    "    \n",
    "    if (i + 1) % 5 == 0:\n",
    "        print(\"Cost after step {:5d}: {: .7f}\".format(i + 1, cost(params)))\n",
    "    #print the values of the parameters every 5 steps\n",
    "    \n",
    "print(\"Optimized rotation angles: {}\".format(params))"
   ]
  },
  {
   "cell_type": "markdown",
   "metadata": {},
   "source": [
    "### Yay it works!\n",
    "We now know that one possible combination of $\\phi_1$ and $\\phi_2$ to achieve the expectation value of $-1$ (based on the prev. equation $\\langle\\psi|\\sigma_z|\\psi\\rangle$) is $\\phi_1=0$ and $\\phi_2=\\pi$"
   ]
  },
  {
   "cell_type": "code",
   "execution_count": null,
   "metadata": {},
   "outputs": [],
   "source": []
  }
 ],
 "metadata": {
  "kernelspec": {
   "display_name": "Python 3",
   "language": "python",
   "name": "python3"
  },
  "language_info": {
   "codemirror_mode": {
    "name": "ipython",
    "version": 3
   },
   "file_extension": ".py",
   "mimetype": "text/x-python",
   "name": "python",
   "nbconvert_exporter": "python",
   "pygments_lexer": "ipython3",
   "version": "3.8.5"
  }
 },
 "nbformat": 4,
 "nbformat_minor": 4
}
