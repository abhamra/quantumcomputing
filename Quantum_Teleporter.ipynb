{
 "cells": [
  {
   "cell_type": "markdown",
   "metadata": {},
   "source": [
    "# Building an $n$ Qubit Quantum Teleporter\n",
    "#### By: Arjun Bhamra"
   ]
  },
  {
   "cell_type": "markdown",
   "metadata": {},
   "source": [
    "### Imports"
   ]
  },
  {
   "cell_type": "code",
   "execution_count": 38,
   "metadata": {},
   "outputs": [
    {
     "name": "stderr",
     "output_type": "stream",
     "text": [
      "configrc.store_credentials:WARNING:2021-03-15 12:44:16,170: Credentials already present. Set overwrite=True to overwrite.\n"
     ]
    }
   ],
   "source": [
    "import qiskit as q\n",
    "from qiskit import *\n",
    "import numpy as np\n",
    "IBMQ.save_account(\"85d62c1de28ec95ddd2e38b8ad23ea3bb797c5bd5a17dc816fb2767c5141745b25d9a3fbf866f09a3d24228ed05f2576f87a3eb2e289cbe3154c639c8d96c212\")\n",
    "from qiskit.visualization import plot_histogram"
   ]
  },
  {
   "cell_type": "markdown",
   "metadata": {},
   "source": [
    "### Helper Functions"
   ]
  },
  {
   "cell_type": "code",
   "execution_count": 39,
   "metadata": {},
   "outputs": [],
   "source": [
    "#creates the bell state\n",
    "def bell_state(qc, a, b):\n",
    "    qc.h(a)\n",
    "    qc.cx(a, b)\n",
    "\n",
    "#uses the bell measurement\n",
    "def bell_measurement(qc, a, b):\n",
    "    qc.cx(a, b)\n",
    "    qc.h(a)\n",
    "\n",
    "#the correction gates based on the results    \n",
    "def q_c_correction(qc, a, c0, c1):\n",
    "    qc.x(a).c_if(c0, 1)\n",
    "    qc.z(a).c_if(c1, 1)\n",
    "    \n",
    "def check_same_state(alice, bob, psi):\n",
    "    a = alice[0]\n",
    "    b = [c for c in bob[0] if c != 0]\n",
    "    print(\"Psi state: \", psi[0], psi[1])\n",
    "    print(\"Alice's state: \", a[0], a[1])\n",
    "    print(\"Bob's state: \", b[0], b[1])\n",
    "    # For simplicity I am rounding and summing to check for equality\n",
    "    if np.round(a[0]+a[1], 5) == np.round(b[0]+ b[1], 5):\n",
    "        print(\"State Successfully Teleported!\")\n",
    "    else:\n",
    "        print(\"Error: Bob did not get the right state!\")   "
   ]
  },
  {
   "cell_type": "markdown",
   "metadata": {},
   "source": [
    "### Circuit Function (Might Change)"
   ]
  },
  {
   "cell_type": "code",
   "execution_count": 40,
   "metadata": {},
   "outputs": [],
   "source": [
    "#creating the actual circuit\n",
    "#here, input_states is a list of all of the psis that Alice is trying to send to Bob\n",
    "def teleportation_circuit(input_states):\n",
    "    for state in input_states:\n",
    "        qr = q.QuantumRegister(3, 'q')\n",
    "        c0 = q.ClassicalRegister(1, 'c0')\n",
    "        c1 = q.ClassicalRegister(1, 'c1')\n",
    "        \n",
    "        qc = q.QuantumCircuit(qr, c0, c1)\n",
    "        \n",
    "        init_gate = q.extensions.Initialize(psi)\n",
    "\n",
    "        #ansatz/initial state\n",
    "        qc.append(init_gate, [0])\n",
    "\n",
    "        qc.barrier()\n",
    "\n",
    "        qc.snapshot('1')\n",
    "\n",
    "        qc.barrier()\n",
    "\n",
    "        #create bell pairs\n",
    "        qc.h(1)\n",
    "        qc.cx(1, 2)\n",
    "\n",
    "        qc.barrier()\n",
    "\n",
    "        #alice's gates\n",
    "        qc.cx(0, 1)\n",
    "        qc.h(0)\n",
    "\n",
    "        qc.barrier()\n",
    "\n",
    "        #measurements\n",
    "        qc.measure(0, c0)\n",
    "        qc.measure(1, c1)\n",
    "\n",
    "        qc.barrier()\n",
    "\n",
    "        qc.x(2).c_if(c0, 1)\n",
    "        qc.z(2).c_if(c1, 1)\n",
    "\n",
    "        qc.barrier()\n",
    "\n",
    "        qc.snapshot('2')\n",
    "        \n",
    "        simulator = Aer.get_backend('statevector_simulator')\n",
    "\n",
    "        # job = execute(qc, simulator, shots=1000)\n",
    "        job = q.execute(qc, simulator)\n",
    "\n",
    "        # Grab results from the job\n",
    "        result = job.result()\n",
    "        snapshots = result.data()['snapshots']['statevector']\n",
    "\n",
    "        init_state = snapshots['1']\n",
    "        final_state = snapshots['2']\n",
    "        \n",
    "        check_same_state(init_state, final_state, psi) "
   ]
  },
  {
   "cell_type": "code",
   "execution_count": 41,
   "metadata": {},
   "outputs": [
    {
     "name": "stdout",
     "output_type": "stream",
     "text": [
      "Psi state:  (0.5533920757991503+0.3043529040180291j) (0.6147796854942953+0.4724113234904887j)\n",
      "Alice's state:  (0.5533920757991503+0.3043529040180291j) (0.6147796854942953+0.4724113234904887j)\n",
      "Bob's state:  (0.5533920757991502+0.30435290401802906j) (0.6147796854942955+0.4724113234904887j)\n",
      "State Successfully Teleported!\n",
      "Psi state:  (0.5533920757991503+0.3043529040180291j) (0.6147796854942953+0.4724113234904887j)\n",
      "Alice's state:  (0.5533920757991503+0.3043529040180291j) (0.6147796854942953+0.4724113234904887j)\n",
      "Bob's state:  (0.5533920757991504+0.30435290401802917j) (0.6147796854942953+0.47241132349048853j)\n",
      "State Successfully Teleported!\n"
     ]
    }
   ],
   "source": [
    "psi = np.array([0.5533920757991503+0.3043529040180291j, 0.6147796854942953+0.4724113234904887j])    \n",
    "    \n",
    "input_states = np.array([psi, psi])  \n",
    "teleportation_circuit(input_states)"
   ]
  },
  {
   "cell_type": "code",
   "execution_count": null,
   "metadata": {},
   "outputs": [],
   "source": []
  }
 ],
 "metadata": {
  "kernelspec": {
   "display_name": "Python 3",
   "language": "python",
   "name": "python3"
  },
  "language_info": {
   "codemirror_mode": {
    "name": "ipython",
    "version": 3
   },
   "file_extension": ".py",
   "mimetype": "text/x-python",
   "name": "python",
   "nbconvert_exporter": "python",
   "pygments_lexer": "ipython3",
   "version": "3.8.5"
  }
 },
 "nbformat": 4,
 "nbformat_minor": 4
}
